{
 "cells": [
  {
   "cell_type": "markdown",
   "id": "81cd8e9a-d24e-4908-a5ae-5c7a88413383",
   "metadata": {},
   "source": [
    "1. Một người đàn ông tên X bị cảnh sát tình nghi là hung thủ trong một vụ án mạng. Sau một khoảng thời gian điều tra, cảnh sát thu thập được 2 thông tin như sau:\n",
    "* Hiện trường có 3 người: 1 người là nạn nhân, 1 người là X và 1 người cảnh sát không biết là ai và 1 trong 2 người là hung thủ,\n",
    "* Thủ phạm là đàn ông.\n",
    "* Xác suất hung thủ là X chiếm bao nhiêu phần trăm?\n"
   ]
  },
  {
   "cell_type": "markdown",
   "id": "c21f5342-38bf-4ba9-95bc-6165a80827c1",
   "metadata": {},
   "source": [
    "2. Giá xăng dao động rất mạnh trong những năm gần đây. Giả sử giá xăng năm 2019 (tính\n",
    "theo VNĐ) trong đoạn [10,000; 300,000] cho 1 lít (Dưới 10,000đ thì bán xăng sẽ không có\n",
    "lãi và trên 300,000đ thì ta nên dùng loại năng lượng khác tiết kiệm hơn). Giả sử ra có sự\n",
    "kiện Bx (x = 0, 1, 2,…, 9), có thể coi Bx là họ độc lập các sự kiện được không khi Bx =\n",
    "“Năm 202x, giá xăng tăng lên ít nhất 50% trong năm đó với giá xăng tính từ năm 2019”.\n",
    "Giải thích nguyên nhân vì sao?"
   ]
  },
  {
   "cell_type": "markdown",
   "id": "bbfd31c4-4007-4042-b675-3513750ec05c",
   "metadata": {},
   "source": [
    "3. Giả sử Y là một biến ngẫu nhiên liên tục với hàm mật độ $P_{Y(x)} = bsin(x)$ khi $x \\in [0; \\pi]$ và\n",
    "$P_Y(x) = 0$ tại các điểm còn lại:\n",
    "* Tính b,\n",
    "* Tính 𝐸(Y)."
   ]
  },
  {
   "cell_type": "code",
   "execution_count": null,
   "id": "8e02133e-766a-4c62-901c-adfccab89046",
   "metadata": {},
   "outputs": [],
   "source": []
  }
 ],
 "metadata": {
  "kernelspec": {
   "display_name": "Python 3 (ipykernel)",
   "language": "python",
   "name": "python3"
  },
  "language_info": {
   "codemirror_mode": {
    "name": "ipython",
    "version": 3
   },
   "file_extension": ".py",
   "mimetype": "text/x-python",
   "name": "python",
   "nbconvert_exporter": "python",
   "pygments_lexer": "ipython3",
   "version": "3.9.12"
  }
 },
 "nbformat": 4,
 "nbformat_minor": 5
}
