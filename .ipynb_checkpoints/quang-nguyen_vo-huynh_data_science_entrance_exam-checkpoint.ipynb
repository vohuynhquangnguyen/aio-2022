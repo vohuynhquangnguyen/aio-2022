{
 "cells": [
  {
   "cell_type": "markdown",
   "id": "81cd8e9a-d24e-4908-a5ae-5c7a88413383",
   "metadata": {},
   "source": [
    "1. Một người đàn ông tên X bị cảnh sát tình nghi là hung thủ trong một vụ án mạng. Sau một khoảng thời gian điều tra, cảnh sát thu thập được 2 thông tin như sau:\n",
    "* Hiện trường có 3 người: 1 người là nạn nhân, 1 người là X và 1 người cảnh sát không biết là ai và 1 trong 2 người là hung thủ,\n",
    "* Thủ phạm là đàn ông.\n",
    "* Xác suất hung thủ là X chiếm bao nhiêu phần trăm?\n"
   ]
  },
  {
   "cell_type": "markdown",
   "id": "c21f5342-38bf-4ba9-95bc-6165a80827c1",
   "metadata": {},
   "source": [
    "2. Giá xăng dao động rất mạnh trong những năm gần đây. Giả sử giá xăng năm 2019 (tính\n",
    "theo VNĐ) trong đoạn $[10,000; 300,000]$ cho 1 lít (Dưới 10,000đ thì bán xăng sẽ không có\n",
    "lãi và trên 300,000đ thì ta nên dùng loại năng lượng khác tiết kiệm hơn). Giả sử ra có sự\n",
    "kiện $B_x (x = 0, 1, 2,…, 9)$, có thể coi $B_x$ là họ độc lập các sự kiện được không khi Bx =\n",
    "“Năm 202x, giá xăng tăng lên ít nhất 50% trong năm đó với giá xăng tính từ năm 2019”.\n",
    "Giải thích nguyên nhân vì sao?"
   ]
  },
  {
   "cell_type": "markdown",
   "id": "bbfd31c4-4007-4042-b675-3513750ec05c",
   "metadata": {},
   "source": [
    "3. Giả sử $\\mathbf{Y}$ là một biến ngẫu nhiên liên tục với hàm mật độ $P_{Y(x)} = bsin(x)$ khi $x \\in [0; \\pi]$ và\n",
    "$P_Y(x) = 0$ tại các điểm còn lại:\n",
    "    * Tính $b$,\n",
    "    * Tính $\\mathbb{E}(Y)$.\n",
    "    \n",
    "***\n",
    "\n",
    "**Answer:**\n",
    "* \n",
    "* Vì $\\mathbf{Y}$ là một biến ngẫu nhiên liên tục, ta có thể tìm giá trị kì vọng của $\\mathbf{Y}$ thông qua:\n",
    "$$\n",
    "\\mathbb{E}[\\mathbf{Y}] = \\int^{\\infty}_{-\\infty}xp(x) = \\int^{0}_{-\\infty}xp(x) + \\int^{\\pi}_{0}xp(x)  + \\int^{\\infty}_{\\pi}xp(x) = b\\int^{\\pi}_{0}xsin(x) = b\\pi\n",
    "$$"
   ]
  },
  {
   "cell_type": "markdown",
   "id": "f0adc836-780e-4a17-b035-41b8aac27b8f",
   "metadata": {},
   "source": [
    "4. Giả sử chiều cao nữ giới Việt Nam tuân theo phân phối chuẩn với trung bình là 158.0cm và độ lệch chuẩn 5.0cm:\n",
    "    * Tính xác suất phụ nữ tham gia hoa hậu có chiều cao từ 168 – 190cm,\n",
    "    * Tính khoảng tin cậy 95% (95%CI).\n",
    "    * Tìm Outlier với khoảng ctin cậy 99%.\n",
    "\n",
    "***\n",
    "**Answer:**\n",
    "* Vì chiều cao của nữ giới là một phân bố chuẩn (normal distribution) với trung bình (mean) là 158.0cm và độ lệch chuẩn (standard deviation) là 5.0cm, ta có một bảng sau đây\n",
    "|                                                       | 158 | 163   | 168   | 173  | 178  | 183 | 188 | 193 |\n",
    "|-------------------------------------------------------|-----|-------|-------|------|------|-----|-----|-----|\n",
    "| Khoảng cách  (dựa theo độ lệch chuẩn)                 | 0   | 1     | 2     | 3    | 4    | 5   | 6   | 7   |\n",
    "| Tỉ lệ % (dựa theo khoảng cách của  hai điểm gần nhau) |     | 34.13 | 13.59 | 2.14 | 0.13 | 0   | 0   | 0   |\n",
    "\n",
    "Vậy xác suất phụ nữ tham gia hoa hậu có chiều cao từ 168 – 190cm được tính bằng: \n",
    "$$\n",
    "P_{168-190} \\approx P_{168-173} + P_{173-178} + P_{178-183} + P_{183-188} + P_{188-193} = 0.0214 + 0.00013 + 0 + 0 = 0.02153 = 2.153\\%\n",
    "$$\n",
    "\n",
    "Một cách tính khác đó là:\n",
    "$$\n",
    "P_{168-190} = \\int^{190}_{168} x\\times\\frac{1}{\\sigma\\sqrt{2\\pi}}exp\\Big [\\frac{-1}{2}(\\frac{x-\\mu}{\\sigma})^2 \\Big ] = \\frac{1}{5\\sqrt{2\\pi}} \\int^{190}_{180} x \\times exp\\Big [\\frac{-1}{2}(\\frac{x - 158}{5}^2) \\Big ] \\approx 0.0228 = 2.28%\n",
    "$$\n",
    "\n",
    "* \n",
    "* "
   ]
  },
  {
   "cell_type": "markdown",
   "id": "88a7127e-3544-4853-8046-0a44d1ced0fe",
   "metadata": {},
   "source": [
    "5. Bạn hiểu thế nào về giá trị p (p– values) và ảnh hưởng của nó lên các nghiên cứu/đánh giá?\n",
    "\n",
    "***\n",
    "**Answer:**\n",
    "* Giá trị p (p-values) là một giá trị thống kê được dùng trong các tác vụ kiểm định giả thuyết (hypothesis testing) để người phân tích có nên từ bỏ giả thuyết rỗng (null hypothesis, thường được viết ở dạng $H_0$) hay không. Để dễ hình dung, xét một thí nghiệm thí nghiệm mà trong đó:\n",
    "    * $H_0$: kết quả thí nghiệm này là hệ quả của hoàn toàn ngẫu nhiên (completely random).\n",
    "    * $H_a$: kết quả thí nghiệm này không phải là hệ quả của ngẫu nhiên, hay nói cách khác, kết quả thí nghiệm này có giá trị thống kê (statiscally significant).\n",
    "Giả sử p-value mà ta thu thập được có giá trị là 2.94%, vậy có nghĩa là xác suất mà kết quả thu được là ngẫu nhiên chỉ có 2.94% (điều đó mang hàm ý chỉ thí nghiệm có giá trị).\n",
    "* Về ý nghĩa của p-value (ở đây mình nêu theo cách hiểu trong lĩnh vực mình là kĩ thuật sản xuất): p-value thường được dùng để xác định xem một nghiên cứu/đánh giá có tính statistical significance hay không để từ đó đưa ra quyết định phù hợp dựa trên dữ liệu thu thập được (data-driven decision making). Lấy một ví dụ minh họa, công ty mình tính nhập một thiết bị kiểm định mới (gọi là $B$) để thay thế một thiết bị hiện có (gọi là $A$). Để đảm bảo rằng việc đầu tư vào $B$ là có ích, mình sẽ làm một đánh giá liệu $B$ có thực sự tốt hơn $A$ hay không bằng cách kiểm định giả thuyết:\n",
    "    * $H_0$: $\\sigma_B \\geq \\sigma_A$\n",
    "    * $H_a$: $\\sigma_B < \\sigma_A$\n",
    "Nếu p-value trả về một giá trị bác bỏ $H_0$, điều đó nghĩa là $B$ có tính ổn định cũng như độ chính xác cao hơn. Từ đó ta đưa ra quyết định là đầu tư mua thiết bị $B$."
   ]
  },
  {
   "cell_type": "markdown",
   "id": "053af08c-fd2b-4574-b34a-f54aa8aa5dd1",
   "metadata": {},
   "source": [
    "6. Công ty dược phẩm X cho ra mắt sản phẩm thuốc B và cho rằng nó có tác dụng điều trị đau dạ dày tốt hơn thuốc A hiện đang bán trên thị trường. Công ty X tiến hành nghiên cứu lâm sàng và cho kết quả như sau:\n",
    "|                          | Thuốc A | Thuốc B |\n",
    "|--------------------------|---------|---------|\n",
    "| Điều trị khỏi bệnh       | 367     | 409     |\n",
    "| Điều trị không khỏi bệnh | 135     | 94      |\n",
    "\n",
    "* Theo bạn, thiết kế nghiên cứu nào phù hợp cho nghiên cứu này?\n",
    "* Thuốc B liệu có tác dụng tốt hơn thuốc A?\n",
    "* Theo bạn, nếu công ty X bán sản phẩm ra thị trường thì công ty X cần bổ sung thông tin gì?\n",
    "\n",
    "***\n",
    "\n",
    "**Answer:**\n",
    "* Mình cho rằng thiết kế kiểm định Trắc Nghiệm $\\chi^2$ (Chi-square hypothesis test).\n",
    "* Để phân tích xem liệu thuốc B có tác dụng cho thuốc A, ta sẽ làm như sau:\n",
    "    * Với mức ý nghĩa ($\\alpha$) là 5%, ta đặt hai giả thuyết sau:\n",
    "        * $H_0$: cả hai thuốc có tác dụng như nhau.\n",
    "        * $H_a$: thuốc A có tác dụng khác với thuốc B.\n",
    "    * Dựa vào thông tin trên, ta tính được các tần số lý thuyết (expected frequency) từ tần số quan sát (observed frequency) và tổng của cột (sums of columns) và tổng của lề (sums of rows) như sau:\n",
    "        * $E_{11} = \\frac{776\\times502}{1005} = 387.61$\n",
    "        * $E_{12} = \\frac{776\\times503}{1005} = 388.39$\n",
    "        * $E_{21} = \\frac{229\\times502}{1005} = 114.39$\n",
    "        * $E_{22} = \\frac{229\\times502}{1005} = 114.61$\n",
    "    \n",
    "        \n",
    "|                          | Thuốc A | Thuốc B | **Tổng** |\n",
    "|--------------------------|---------|---------|----------|\n",
    "| Điều trị khỏi bệnh       | 367 (387.61)   | 409 (388.39)    | 776      |\n",
    "| Điều trị không khỏi bệnh | 135 (114.39)     | 94 (114.61)    | 229      |\n",
    "| **Tổng**                 | 502     | 503     | 1005     |\n",
    "\n",
    "* Giá trị $Q^2$ được tính bằng:\n",
    "    * Số bậc tự do (degree of freedom) được tính bằng: $\\text{dof} = (h-1)(c-1) = 2$\n",
    "    * $Q^2 = \\frac{(367 - 387.61)^2}{387.61} + \\frac{(409 - 388.39)^2}{388.39} + \\frac{(135 - 114.39)^2}{114.39} + \\frac{(94 - 114.61)^2}{114.61} = 9.61$\n",
    "\n",
    "* Quay trở lại với $\\alpha = 5\\%$, ta tính ra được $\\chi^2_{1-\\alpha} = 5.99$. Vì $Q^2 > \\chi^2_{1-\\alpha}$, ta kết luận rằng thuốc A có tác dụng khác với thuốc B. \n",
    "\n",
    "* Vì cả hai thuốc này có tác dụng khác nhau, cộng với số lượng người điều trị khỏi ở B cao hơn so với A, ta có thể kết luận rằng thuốc B có tác dụng hơn với thuốc A."
   ]
  },
  {
   "cell_type": "markdown",
   "id": "2b876abd-efca-4de5-8e81-5e8f829d0712",
   "metadata": {},
   "source": [
    "7. Để đánh giá chất lượng giảng dạy và cảm nhận của học viên khóa AIO 2021, 1 bảng câu\n",
    "hỏi sử dụng thang đo Likert (1. Rất không hài lòng, 2. Không hài lòng, 3. Trung dung, 4.\n",
    "Hài lòng, 5. Rất hài lòng) được dùng để các học viên đánh giá. Bạn sẽ phân tích kết quả\n",
    "này như thế nào để biết được đánh giá của học viên?\n",
    "\n",
    "***\n",
    "\n",
    "**Answer:**"
   ]
  },
  {
   "cell_type": "markdown",
   "id": "c104090a-1ab8-400a-a0e9-ac551e65d20d",
   "metadata": {},
   "source": [
    "8. Câu hỏi bổ sung cho các bạn thích nghiên cứu khoa học: Theo mục tiêu nghiên cứu, các thiết kế nghiên cứu lâm sàng hiện nay thường được sử dụng là gì?\n",
    "\n",
    "***\n",
    "\n",
    "**Answer:**"
   ]
  },
  {
   "cell_type": "code",
   "execution_count": null,
   "id": "99fa9ecf-f88f-4c0e-947b-60c31d2c58ce",
   "metadata": {},
   "outputs": [],
   "source": []
  }
 ],
 "metadata": {
  "kernelspec": {
   "display_name": "Python 3 (ipykernel)",
   "language": "python",
   "name": "python3"
  },
  "language_info": {
   "codemirror_mode": {
    "name": "ipython",
    "version": 3
   },
   "file_extension": ".py",
   "mimetype": "text/x-python",
   "name": "python",
   "nbconvert_exporter": "python",
   "pygments_lexer": "ipython3",
   "version": "3.9.12"
  }
 },
 "nbformat": 4,
 "nbformat_minor": 5
}
