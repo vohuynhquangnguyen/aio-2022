{
 "cells": [
  {
   "cell_type": "markdown",
   "id": "81cd8e9a-d24e-4908-a5ae-5c7a88413383",
   "metadata": {},
   "source": [
    "1. Một người đàn ông tên X bị cảnh sát tình nghi là hung thủ trong một vụ án mạng. Sau một khoảng thời gian điều tra, cảnh sát thu thập được 2 thông tin như sau:\n",
    "* Hiện trường có 3 người: 1 người là nạn nhân, 1 người là X và 1 người cảnh sát không biết là ai và 1 trong 2 người là hung thủ,\n",
    "* Thủ phạm là đàn ông.\n",
    "* Xác suất hung thủ là X chiếm bao nhiêu phần trăm?\n"
   ]
  },
  {
   "cell_type": "markdown",
   "id": "c21f5342-38bf-4ba9-95bc-6165a80827c1",
   "metadata": {},
   "source": [
    "2. Giá xăng dao động rất mạnh trong những năm gần đây. Giả sử giá xăng năm 2019 (tính\n",
    "theo VNĐ) trong đoạn [10,000; 300,000] cho 1 lít (Dưới 10,000đ thì bán xăng sẽ không có\n",
    "lãi và trên 300,000đ thì ta nên dùng loại năng lượng khác tiết kiệm hơn). Giả sử ra có sự\n",
    "kiện Bx (x = 0, 1, 2,…, 9), có thể coi Bx là họ độc lập các sự kiện được không khi Bx =\n",
    "“Năm 202x, giá xăng tăng lên ít nhất 50% trong năm đó với giá xăng tính từ năm 2019”.\n",
    "Giải thích nguyên nhân vì sao?"
   ]
  },
  {
   "cell_type": "markdown",
   "id": "bbfd31c4-4007-4042-b675-3513750ec05c",
   "metadata": {},
   "source": [
    "3. Giả sử $\\mathbf{Y}$ là một biến ngẫu nhiên liên tục với hàm mật độ $P_{Y(x)} = bsin(x)$ khi $x \\in [0; \\pi]$ và\n",
    "$P_Y(x) = 0$ tại các điểm còn lại:\n",
    "    * Tính $b$,\n",
    "    * Tính $\\mathbb{E}(Y)$.\n",
    "    \n",
    "***\n",
    "\n",
    "**Answer:**\n",
    "* \n",
    "* Vì $\\mathbf{Y}$ là một biến ngẫu nhiên liên tục, ta có thể tìm giá trị kì vọng của $\\mathbf{Y}$ thông qua:\n",
    "$$\n",
    "\\mathbb{E}[\\mathbf{Y}] = \\int^{\\infty}_{-\\infty}xp(x) = \\int^{0}_{-\\infty}xp(x) + \\int^{\\pi}_{0}xp(x)  + \\int^{\\infty}_{\\pi}xp(x) = b\\int^{\\pi}_{0}xsin(x) = b\\pi\n",
    "$$"
   ]
  },
  {
   "cell_type": "markdown",
   "id": "f0adc836-780e-4a17-b035-41b8aac27b8f",
   "metadata": {},
   "source": [
    "4. Giả sử chiều cao nữ giới Việt Nam tuân theo phân phối chuẩn với trung bình là 158.0cm và độ lệch chuẩn 5.0cm:\n",
    "    * Tính xác suất phụ nữ tham gia hoa hậu có chiều cao từ 168 – 190cm,\n",
    "    * Tính khoảng tin cậy 95% (95%CI).\n",
    "    * Tìm Outlier với khoảng ctin cậy 99%.\n",
    "\n",
    "***\n",
    "**Answer:**\n",
    "* Vì chiều cao của nữ giới là một phân bố chuẩn (normal distribution) với trung bình (mean) là 158.0cm và độ lệch chuẩn (standard deviation) là 5.0cm, ta có một bảng sau đây\n",
    "|                                                       | 158 | 163   | 168   | 173  | 178  | 183 | 188 | 193 |\n",
    "|-------------------------------------------------------|-----|-------|-------|------|------|-----|-----|-----|\n",
    "| Khoảng cách  (dựa theo độ lệch chuẩn)                 | 0   | 1     | 2     | 3    | 4    | 5   | 6   | 7   |\n",
    "| Tỉ lệ % (dựa theo khoảng cách của  hai điểm gần nhau) |     | 34.13 | 13.59 | 2.14 | 0.13 | 0   | 0   | 0   |\n",
    "\n",
    "Vậy xác suất phụ nữ tham gia hoa hậu có chiều cao từ 168 – 190cm được tính bằng: \n",
    "$$\n",
    "P_{168-190} \\approx P_{168-173} + P_{173-178} + P_{178-183} + P_{183-188} + P_{188-193} = 0.0214 + 0.00013 + 0 + 0 = 0.02153 = 2.153\\%\n",
    "$$\n",
    "\n",
    "Một cách tính khác đó là:\n",
    "$$\n",
    "P_{168-190} = \\int^{190}_{168} \\frac{1}{\\sigma\\sqrt{2\\pi}}exp\\Big [\\frac{-1}{2}(\\frac{x-\\mu}{\\sigma})^2 \\Big ] = \\frac{1}{5\\sqrt{2\\pi}} \\int^{190}_{180}exp\\Big [\\frac{-1}{2}(\\frac{x - 158}{5}^2) \\Big ] \\approx 0.0228 = 2.28%\n",
    "$$\n",
    "\n",
    "* \n",
    "* "
   ]
  },
  {
   "cell_type": "markdown",
   "id": "88a7127e-3544-4853-8046-0a44d1ced0fe",
   "metadata": {},
   "source": [
    "5. Bạn hiểu thế nào về giá trị p (p– values) và ảnh hưởng của nó lên các nghiên cứu/đánh giá?\n",
    "* Giá trị p (p-values) là một giá trị thống kê được dùng trong các tác vụ kiểm định giả thuyết (hypothesis testing) để người phân tích có nên từ bỏ giả thuyết rỗng (null hypothesis, thường được viết ở dạng $H_0$) hay không. Để dễ hình dung, xét một thí nghiệm thí nghiệm mà trong đó:\n",
    "    * $H_0$: kết quả thí nghiệm này hoàn toàn ngẫu nhiên (completely random).\n",
    "    * $H_a$: "
   ]
  },
  {
   "cell_type": "code",
   "execution_count": null,
   "id": "da1161e4-3d36-4380-b21c-19f63786d4da",
   "metadata": {},
   "outputs": [],
   "source": [
    "6. Công ty dược phẩm X cho ra mắt sản phẩm thuốc B và cho rằng nó có tác dụng điều trị đau dạ dày tốt hơn thuốc A hiện đang bán trên thị trường. Công ty X tiến hành nghiên cứu lâm sàng và cho kết quả như sau:"
   ]
  }
 ],
 "metadata": {
  "kernelspec": {
   "display_name": "Python 3 (ipykernel)",
   "language": "python",
   "name": "python3"
  },
  "language_info": {
   "codemirror_mode": {
    "name": "ipython",
    "version": 3
   },
   "file_extension": ".py",
   "mimetype": "text/x-python",
   "name": "python",
   "nbconvert_exporter": "python",
   "pygments_lexer": "ipython3",
   "version": "3.9.12"
  }
 },
 "nbformat": 4,
 "nbformat_minor": 5
}
