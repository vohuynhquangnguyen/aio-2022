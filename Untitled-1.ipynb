{
 "cells": [
  {
   "cell_type": "code",
   "execution_count": 1,
   "metadata": {},
   "outputs": [],
   "source": [
    "import math"
   ]
  },
  {
   "cell_type": "markdown",
   "metadata": {},
   "source": [
    "# Python Entrance Exam\n"
   ]
  },
  {
   "cell_type": "code",
   "execution_count": 2,
   "metadata": {},
   "outputs": [],
   "source": [
    "##\n",
    "# QUESTION 1:\n",
    "#\n",
    "def compute_remainder(a,b, *args, **kwargs):\n",
    "    remainder = a % b\n",
    "    return remainder"
   ]
  },
  {
   "cell_type": "code",
   "execution_count": 3,
   "metadata": {},
   "outputs": [
    {
     "data": {
      "text/plain": [
       "2"
      ]
     },
     "execution_count": 3,
     "metadata": {},
     "output_type": "execute_result"
    }
   ],
   "source": [
    "##\n",
    "# TEST:\n",
    "#\n",
    "compute_remainder(2, 3)"
   ]
  },
  {
   "cell_type": "code",
   "execution_count": 4,
   "metadata": {},
   "outputs": [],
   "source": [
    "##\n",
    "# QUESTION 2:\n",
    "#\n",
    "def check_if_even(n, *args, **kwargs):\n",
    "    if (n % 2 == 0):\n",
    "        result = True\n",
    "    else:\n",
    "        result = False\n",
    "    return result"
   ]
  },
  {
   "cell_type": "code",
   "execution_count": 5,
   "metadata": {},
   "outputs": [
    {
     "data": {
      "text/plain": [
       "False"
      ]
     },
     "execution_count": 5,
     "metadata": {},
     "output_type": "execute_result"
    }
   ],
   "source": [
    "##\n",
    "# TEST:\n",
    "check_if_even(3)"
   ]
  },
  {
   "cell_type": "code",
   "execution_count": 31,
   "metadata": {},
   "outputs": [],
   "source": [
    "##\n",
    "# QUESTION 3:\n",
    "#\n",
    "def multiply_list_with_scalar(lst, k, *args, **kwargs):\n",
    "    assert len(lst) > 0, 'Invalid list!'\n",
    "\n",
    "    new_lst = []\n",
    "    for i in lst:\n",
    "        i = i * 2\n",
    "        \n",
    "        if (i > 0): \n",
    "            new_lst.append(i)\n",
    "\n",
    "    return new_lst"
   ]
  },
  {
   "cell_type": "code",
   "execution_count": 32,
   "metadata": {},
   "outputs": [
    {
     "name": "stdout",
     "output_type": "stream",
     "text": [
      "[2, 4, 6]\n"
     ]
    }
   ],
   "source": [
    "##\n",
    "# TEST:\n",
    "#\n",
    "lst = [-3, -2, -1, 0, 1, 2, 3]\n",
    "k = 2\n",
    "new_lst = multiply_list_with_scalar(lst, k)\n",
    "print(new_lst)"
   ]
  },
  {
   "cell_type": "code",
   "execution_count": 37,
   "metadata": {},
   "outputs": [],
   "source": [
    "##\n",
    "# QUESTION 4:\n",
    "#\n",
    "def find_fibonacci_at_specific_location(k):\n",
    "    assert k > 0, 'k must be positive!'\n",
    "    \n",
    "    n_0 = 0\n",
    "    n_1 = 1\n",
    "    fibonacci_lst = []\n",
    "    for i in range(k):\n",
    "        n_th = n_0 + n_1\n",
    "        n_0 = n_1\n",
    "        n_1 = n_th\n",
    "        fibonacci_lst.append(n_th)\n",
    "\n",
    "    number_at_k = fibonacci_lst[-2]\n",
    "    \n",
    "    return number_at_k"
   ]
  },
  {
   "cell_type": "code",
   "execution_count": 38,
   "metadata": {},
   "outputs": [
    {
     "name": "stdout",
     "output_type": "stream",
     "text": [
      "8\n"
     ]
    }
   ],
   "source": [
    "##\n",
    "# TEST:\n",
    "#\n",
    "final_number = find_fibonacci_at_specific_location(6)\n",
    "print(final_number)"
   ]
  },
  {
   "cell_type": "code",
   "execution_count": null,
   "metadata": {},
   "outputs": [],
   "source": []
  }
 ],
 "metadata": {
  "interpreter": {
   "hash": "ad2bdc8ecc057115af97d19610ffacc2b4e99fae6737bb82f5d7fb13d2f2c186"
  },
  "kernelspec": {
   "display_name": "Python 3.9.12 ('base')",
   "language": "python",
   "name": "python3"
  },
  "language_info": {
   "codemirror_mode": {
    "name": "ipython",
    "version": 3
   },
   "file_extension": ".py",
   "mimetype": "text/x-python",
   "name": "python",
   "nbconvert_exporter": "python",
   "pygments_lexer": "ipython3",
   "version": "3.9.12"
  },
  "orig_nbformat": 4
 },
 "nbformat": 4,
 "nbformat_minor": 2
}
