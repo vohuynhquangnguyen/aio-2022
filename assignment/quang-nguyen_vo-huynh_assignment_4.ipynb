{
 "cells": [
  {
   "cell_type": "markdown",
   "metadata": {},
   "source": [
    "1. Thực hiện theo các yêu cầu sau.\n",
    "* Viết function trả về một dictionary đếm số lượng chữ xuất hiện trong một từ, với key là chữ\n",
    "cái và value là số lần xuất hiện\n",
    "    * Input: một từ\n",
    "    * Output: dictionary đếm số lần các chữ xuất hiện\n",
    "    * Note: Giả sử các từ nhập vào đều có các chữ cái thuộc [a-z] hoặc [A-Z]\n",
    " \n",
    "* Viết function đọc các câu trong một file txt, đếm số lượng các từ xuất hiện và trả về một dictionary với key là từ và value là số lần từ đó xuất hiện.\n",
    "    * Input: Đường dẫn đến file txt\n",
    "    * Output: dictionary đếm số lần các từ xuất hiện\n",
    "    * Note:\n",
    "        * Giả sử các từ trong file txt đều có các chữ cái thuộc [a-z] hoặc [A-Z]\n",
    "        * Không cần các thao tác xử lý string phức tạp nhưng cần xử lý các từ đều là viết thường\n",
    "        * Các bạn dùng lệnh này để download và tham khảo Code Listing 2: !gdown https://drive.google.com/uc?id=1IBScGdW2xlNsc9v5zSAya548kNgiOrko"
   ]
  },
  {
   "cell_type": "code",
   "execution_count": 1,
   "metadata": {},
   "outputs": [
    {
     "name": "stdout",
     "output_type": "stream",
     "text": [
      "26\n"
     ]
    }
   ],
   "source": [
    "##\n",
    "# EXERCISE 1:\n",
    "#\n",
    "alphabet = ['a', 'b', 'c', 'd', 'e', 'f', 'g', 'h', 'i', 'j', 'k', 'l', 'm', 'n', 'o', 'p', 'q', 'r', 's', 't', 'u', 'v', 'w', 'x', 'y', 'z']\n",
    "print(len(alphabet))\n",
    "\n",
    "def count_characters(word, *args, **kwargs):\n",
    "\n",
    "    return None\n"
   ]
  },
  {
   "cell_type": "markdown",
   "metadata": {},
   "source": []
  }
 ],
 "metadata": {
  "kernelspec": {
   "display_name": "Python 3.9.12 ('base')",
   "language": "python",
   "name": "python3"
  },
  "language_info": {
   "codemirror_mode": {
    "name": "ipython",
    "version": 3
   },
   "file_extension": ".py",
   "mimetype": "text/x-python",
   "name": "python",
   "nbconvert_exporter": "python",
   "pygments_lexer": "ipython3",
   "version": "3.9.12"
  },
  "orig_nbformat": 4,
  "vscode": {
   "interpreter": {
    "hash": "ad2bdc8ecc057115af97d19610ffacc2b4e99fae6737bb82f5d7fb13d2f2c186"
   }
  }
 },
 "nbformat": 4,
 "nbformat_minor": 2
}
