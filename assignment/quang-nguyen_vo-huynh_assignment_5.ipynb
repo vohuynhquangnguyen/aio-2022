{
 "cells": [
  {
   "cell_type": "markdown",
   "metadata": {},
   "source": [
    "1. Thực hiện theo yêu cầu như class diagram bên dưới:"
   ]
  },
  {
   "cell_type": "code",
   "execution_count": 3,
   "metadata": {},
   "outputs": [],
   "source": [
    "##\n",
    "# EXERCISE 1:\n",
    "#\n",
    "class Manufacturer:\n",
    "    def __init__(self, identity:int, location:str):\n",
    "        self.__identity = identity # private data\n",
    "        self.__location = location # private data\n",
    "    \n",
    "    def describe(self):\n",
    "        print(f'Identity: {self.__identity} - Location: {self.__location}')\n",
    "        \n",
    "class Device:\n",
    "    def __init__(self, name:str, price:float, identity:int, location:str):\n",
    "        self.__name = name\n",
    "        self.__price = price\n",
    "        self.__manufacturer = Manufacturer(identity, location)\n",
    "\n",
    "    def describe(self):\n",
    "        print(f'Name: {self.__name} - Price: {self.__price}')\n",
    "        self.__manufacturer.describe()\n"
   ]
  },
  {
   "cell_type": "code",
   "execution_count": 5,
   "metadata": {},
   "outputs": [
    {
     "name": "stdout",
     "output_type": "stream",
     "text": [
      "Name: mouse - Price: 2.5\n",
      "Identity: 9725 - Location: Vietnam\n",
      "Name: monitor - Price: 12.5\n",
      "Identity: 11 - Location: Germany\n"
     ]
    }
   ],
   "source": [
    "##\n",
    "# TEST:\n",
    "#\n",
    "device1 = Device(name = 'mouse', price = 2.5 , identity = 9725 , location = 'Vietnam')\n",
    "device1.describe()\n",
    "\n",
    "device2 = Device(name = 'monitor', price = 12.5 , identity = 11 , location = 'Germany')\n",
    "device2.describe()"
   ]
  },
  {
   "cell_type": "markdown",
   "metadata": {},
   "source": [
    "2. Một `Ward` gồm có `name` (string) và danh sách của mọi người trong `Ward`. Một người\n",
    "`person` có thể là `student`, `doctor`, hoặc `teacher`. Một `student` gồm có `name`, `yob` (int)\n",
    "(năm sinh), và `grade` (string). Một `teacher` gồm có `name`, `yob`, và `subject` (string).\n",
    "Một `doctor` gồm có `name`, `yob`, và `specialist` (string). Lưu ý cần sử dụng a list để chứa\n",
    "danh sách của mọi người trong `Ward`.\n",
    "\n",
    "(a) Thực hiện các class `student`, `doctor`, và `teacher` theo mô tả trên. Thực hiện `describe()` method\n",
    "để print ra tất cả thông tin của các objects.\n",
    "\n",
    "(b) Viết `addPerson(person)` method trong `Ward` class để add thêm một người mới với nghề\n",
    "nghiệp bất kỳ (student, teacher, doctor) vào danh sách người của ward. Tạo ra một `Ward`\n",
    "object, và thêm vào 1 `student`, 2 `teacher`, và 2 `doctor`. Thực hiện `describe()` method để in ra\n",
    "tên ward (`name`) và toàn bộ thông tin của từng người trong ward.\n",
    "\n",
    "(c) Viết `countDoctor()` method để đếm số lượng doctor trong ward.\n",
    "\n",
    "(d) Viết `sortAge()` method để sort mọi người trong ward theo tuổi của họ với thứ tự tăng dần.\n",
    "(hint: Có thể sử dụng sort của list hoặc viết thêm function đều được)\n",
    "\n",
    "(e) Viết `avgTeacherYearOfBirth()` method để tính trung bình năm sinh của các teachers trong\n",
    "ward."
   ]
  },
  {
   "cell_type": "code",
   "execution_count": 14,
   "metadata": {},
   "outputs": [],
   "source": [
    "##\n",
    "# EXERICSE 2\n",
    "#\n",
    "from abc import ABC, abstractmethod\n",
    "\n",
    "class Person(ABC):\n",
    "    def __init__(self, name:str, yob:int):\n",
    "        self._name = name\n",
    "        self._yob = yob\n",
    "\n",
    "        @abstractmethod\n",
    "        def describe(self):\n",
    "            pass\n",
    "\n",
    "class Student(Person): # Person -> Student\n",
    "    def __init__(self, name:str, yob:int, grade:str):\n",
    "        super().__init__(name = name, yob = yob) # Student class inherits from Person superclass\n",
    "        self.__grade = grade\n",
    "    \n",
    "    def describe(self):\n",
    "        print(f'Name: {self._name} - YoB: {self._yob} - Grade: {self.__grade}')\n",
    "        \n",
    "\n",
    "class Doctor(Person): # Person -> Doctor\n",
    "    def __init__(self, name:str, yob:int, specialist:str):\n",
    "        super().__init__(name = name, yob = yob) # Doctor class inherits from Person superclass\n",
    "        self.__specialist = specialist\n",
    "    \n",
    "    def describe(self):\n",
    "        print(f'Name: {self._name} - YoB: {self._yob} - Specialist: {self.__specialist}')\n",
    "\n",
    "\n",
    "class Teacher(Person): # Person -> Teacher\n",
    "    def __init__(self, name:str, yob:int, subject:str):\n",
    "        super().__init__(name = name, yob = yob) # Teacher class inherits from Person superclass\n",
    "        self.__subject = subject\n",
    "\n",
    "    def describe(self):\n",
    "        print(f'Name: {self._name} - YoB: {self._yob} - Subject: {self.__subject}')\n",
    "\n",
    "class Ward:\n",
    "    def __init__(self, name:str):\n",
    "        self.__name = name\n",
    "        self.__listPeople = [] # No people in the beginning\n",
    "\n",
    "    def addPerson(self, person:Person):\n",
    "        self.__listPeople.append(person)\n",
    "\n",
    "    def describe(self):\n",
    "        print(f'Ward: {self.__name}')\n",
    "\n",
    "        for person in self.__listPeople:\n",
    "            person.describe()\n",
    "    \n",
    "    def countDoctor(self):\n",
    "        count = 0\n",
    "\n",
    "        for person in self.__listPeople:\n",
    "            if isinstance(person, Doctor):\n",
    "                count += 1\n",
    "        return count\n",
    "\n",
    "    def sortAge(self):\n",
    "        self.__listPeople()\n"
   ]
  },
  {
   "cell_type": "code",
   "execution_count": 15,
   "metadata": {},
   "outputs": [
    {
     "name": "stdout",
     "output_type": "stream",
     "text": [
      "Name: studentA - YoB: 2010 - Grade: 7\n",
      "Name: teacherA - YoB: 1969 - Subject: Math\n",
      "Name: doctorA - YoB: 1945 - Specialist: Endocrinologists\n"
     ]
    }
   ],
   "source": [
    "##\n",
    "# TEST:\n",
    "# \n",
    "student1 = Student(name = 'studentA', yob = 2010 , grade = '7')\n",
    "student1.describe()\n",
    "\n",
    "teacher1 = Teacher(name = 'teacherA' , yob = 1969 , subject = 'Math')\n",
    "teacher1.describe()\n",
    "\n",
    "doctor1 = Doctor(name = 'doctorA', yob = 1945 , specialist = 'Endocrinologists')\n",
    "doctor1.describe ()\n",
    "\n"
   ]
  },
  {
   "cell_type": "code",
   "execution_count": null,
   "metadata": {},
   "outputs": [],
   "source": []
  }
 ],
 "metadata": {
  "interpreter": {
   "hash": "ad2bdc8ecc057115af97d19610ffacc2b4e99fae6737bb82f5d7fb13d2f2c186"
  },
  "kernelspec": {
   "display_name": "Python 3.9.13 ('base')",
   "language": "python",
   "name": "python3"
  },
  "language_info": {
   "codemirror_mode": {
    "name": "ipython",
    "version": 3
   },
   "file_extension": ".py",
   "mimetype": "text/x-python",
   "name": "python",
   "nbconvert_exporter": "python",
   "pygments_lexer": "ipython3",
   "version": "3.9.13"
  },
  "orig_nbformat": 4
 },
 "nbformat": 4,
 "nbformat_minor": 2
}
