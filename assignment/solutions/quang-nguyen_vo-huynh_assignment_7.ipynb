{
 "cells": [
  {
   "cell_type": "markdown",
   "metadata": {},
   "source": [
    "1. Viết các hàm đọc và lấy thông tin từ tất cả các file xml hoặc json trong folder theo\n",
    "yêu cầu sau: (một số configuration và data đã được định nghĩa trước và đính kèm vào\n",
    "link file notebook bên dưới)\n",
    "\n",
    "(a) Viết hàm readxml(path) đọc toàn bộ file xml và lấy các thông tin sau \"filename\", và thông\n",
    "tin của các \"object\" bao gồm \"name\", \"xmin\", \"ymin\", \"xmax\", \"ymax\" và trả về một\n",
    "dictionary với mỗi item gồm key là tên đường dẫn ảnh, value là một list chứa thông tin của\n",
    "các \"object\"\n",
    "• Input: path đường dẫn file chứa ảnh (.jpg) và file xml (.xml).\n",
    "• Output: một dictionary\n",
    "– key: đường dẫn đến file ảnh\n",
    "– value: list với mỗi element là ’name’ và tuple(xmin, ymin, xmax, ymax)\n",
    "\n",
    "(b) Viết hàm readjon(path) đọc toàn bộ file json và lấy các thông tin sau \"imagePath\", và thông\n",
    "tin của \"shapes\" bao gồm \"label\", và \"points\". Sau đó trả về một dictionary với mỗi item\n",
    "gồm key là tên đường dẫn ảnh, value là một list chứa thông tin của các \"shapes\"\n",
    "• Input: Đường dẫn file chứa ảnh (.jpg) và file json (.json).\n",
    "• Output: một dictionary\n",
    "– key: path đường dẫn đến file ảnh\n",
    "– value: list với mỗi element là ’label’ và list points\n",
    "\n",
    "Hướng dẫn cách làm bài:\n",
    "• Toàn bộ bài tập sẽ thực hiện theo template notebook này (link)\n",
    "Hình 3: Cell làm bài tập 1a và 1b\n",
    "• Các bạn vào teamplate notebook ở trên, chạy hết các cell ở phần có tên là Exercise1 để\n",
    "download các file, data và giải nén data, cũng như import các thư viện cần thiết.\n",
    "• Tiếp theo các bạn tìm đến các cell như hình 3 ở trên để hoàn thành bài tập\n",
    "• Các bạn phải đọc nội dung các file trong path1a, và path1b để biết folder chứa cả\n",
    "ảnh và file xml hoặc json. Đồng thời đọc nội dung các file để biết cấu trúc và vị trí các thông\n",
    "tin mà mình cần lấy theo yêu cầu của đề .\n",
    "• Sau đó viết nội dung cho hàm readxml (nhận input path1a) và readjson (nhận input path1b)\n",
    "và return về dictionary kết quả\n",
    "Đối với key của dictionary là đường dẫn đến file ảnh (file ảnh và file xml hoặc json sẽ cùng\n",
    "tên nhưng khác đuôi mở rộng .jpg, .xml hoặc .json) các bạn sẽ phải gắn đường dẫn đến folder\n",
    "chứa ảnh và tên file ảnh. Tên file ảnh chính là \"filename\" (1a) và \"imagePath\" (1b). Để thu\n",
    "được đường dẫn đến ảnh cũng chính là key\n",
    "• lưu ý 1a: xmin, ymin, xmax, ymax khi lấy ra sẽ có dạng string các bạn nhớ ép kiểu về dạng\n",
    "int\n",
    "• lưu ý 2a: các bạn lấy trực tiếp \"points\" là list và không cần xử lý gì thêm.\n",
    "• Sau khi có được dictionary, các bạn convert sang iterator và dùng hàm có sẵn (draw_one_img\n",
    "với is_from_xml=True (1a) và is_from_xml=False (1b)) để vẽ các kết quả lên ảnh như ví\n",
    "dụ bên dưới\n",
    "\n"
   ]
  },
  {
   "cell_type": "code",
   "execution_count": 2,
   "metadata": {},
   "outputs": [],
   "source": [
    "%pip install gdown\n",
    "import gdown\n",
    "!gdown --id 1B6YL5voMkc9YqPp9wKx06KOTuGRiuXQM"
   ]
  },
  {
   "cell_type": "code",
   "execution_count": null,
   "metadata": {},
   "outputs": [],
   "source": [
    "##\n",
    "# EXERCISE 1:\n",
    "#\n",
    "import os\n",
    "import json\n",
    "import xml.etree.ElementTree as ET\n",
    "from P1 import draw_one_img\n",
    "\n",
    "def readxml(path):\n",
    "    results = {}\n",
    "\n",
    "    for fname in "
   ]
  }
 ],
 "metadata": {
  "kernelspec": {
   "display_name": "Python 3.10.4 ('tensorflow_latest')",
   "language": "python",
   "name": "python3"
  },
  "language_info": {
   "codemirror_mode": {
    "name": "ipython",
    "version": 3
   },
   "file_extension": ".py",
   "mimetype": "text/x-python",
   "name": "python",
   "nbconvert_exporter": "python",
   "pygments_lexer": "ipython3",
   "version": "3.10.4"
  },
  "orig_nbformat": 4,
  "vscode": {
   "interpreter": {
    "hash": "7d1c19e37e5f6196bc516d7b965f651cc74a678b65e0e3f127f9e9132621bafc"
   }
  }
 },
 "nbformat": 4,
 "nbformat_minor": 2
}
