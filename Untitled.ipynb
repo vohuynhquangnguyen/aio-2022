{
 "cells": [
  {
   "cell_type": "code",
   "execution_count": 41,
   "id": "a6195e90-27b4-4288-9f38-d86f0cc30996",
   "metadata": {},
   "outputs": [],
   "source": [
    "import math\n",
    "import random"
   ]
  },
  {
   "cell_type": "markdown",
   "id": "8564a7c3-6a6a-4caa-ba91-92b8a0a0e0b6",
   "metadata": {},
   "source": [
    "1. Viết 4 functions thực hiện tính thể tích của các khối sau:\n",
    "    * Hình lập phương $V = s^3$ ($s$ là độ dài của cạnh)\n",
    "        * input function: $s$\n",
    "        * output function: $V$\n",
    "    * Hình hộp chữ nhật $V = l \\times w \\times h$ ($l$ là chiều dài, $w$ là chiều rộng, $h$ là chiều cao)\n",
    "        * input function: $l, w, h$\n",
    "        * output function: $V$\n",
    "     * Hình trụ tròn: $V = \\pi \\times r^2 \\times h$ ($r$ là bán kính đáy, $h$ là chiều cao)\n",
    "        * input function: $r, h$\n",
    "        * output function: $V$\n",
    "      * Hình cầu: $V = \\frac{4}{3}\\times \\pi \\times r^3$ ($r$ là bán kính hình cầu)\n",
    "        * input function: $r$\n",
    "        * output function: $V$\n",
    "\n",
    "NOTE: Tùy thuộc vào giá trị $\\pi$ các bạn định nghĩa mà kết quả có thể sai lệch. Ví dụ tự định nghĩa $\\pi$ = 3.14 hoặc dùng math.pi $\\pi$ = 3.141592653589793"
   ]
  },
  {
   "cell_type": "code",
   "execution_count": 2,
   "id": "b4b22d19-680d-44a7-95c9-800e79b4cad4",
   "metadata": {},
   "outputs": [],
   "source": [
    "##\n",
    "# EXERCISE 1:\n",
    "#\n",
    "PI = math.pi\n",
    "\n",
    "def calculate_cubical_volume(s, *args, **kwargs):\n",
    "    volume = s ** 3\n",
    "    return volume\n",
    "\n",
    "def calculate_rectangular_solid_volume(l, w, h, *args, **kwargs):\n",
    "    volume = l * w * h\n",
    "    return volume\n",
    "\n",
    "def calculate_cylindrical_solid_volume(r, h, *args, **kwargs):\n",
    "    volume = PI * (r**2) * h\n",
    "    return volume\n",
    "\n",
    "def calculate_spherical_solid_volume(r, *args, **kwargs):\n",
    "    volume = (4/3) * PI * (r**3)\n",
    "    return volume"
   ]
  },
  {
   "cell_type": "code",
   "execution_count": 3,
   "id": "44c99fd7-d557-4c39-b0db-7f4bd1d5ebbe",
   "metadata": {},
   "outputs": [
    {
     "name": "stdout",
     "output_type": "stream",
     "text": [
      "27\n",
      "6\n",
      "18.09557368467721\n",
      "9.2027720799157\n"
     ]
    }
   ],
   "source": [
    "##\n",
    "# TEST:\n",
    "#\n",
    "volume = calculate_cubical_volume(s = 3)\n",
    "print(volume)\n",
    "\n",
    "volume = calculate_rectangular_solid_volume(l = 1, w = 2, h = 3)\n",
    "print(volume)\n",
    "\n",
    "volume = calculate_cylindrical_solid_volume(r = 1.2, h = 4)\n",
    "print(volume)\n",
    "\n",
    "volume = calculate_spherical_solid_volume(r = 1.3)\n",
    "print(volume)\n",
    "\n",
    "del volume"
   ]
  },
  {
   "cell_type": "markdown",
   "id": "7f2d32e6-96a4-40b3-a87a-915a3916f4d1",
   "metadata": {},
   "source": [
    "2. Viết function thực hiện đánh giá classification model bằng F1-Score.\n",
    "    * $\\text{Precision} = \\frac{\\text{TP}}{\\text{TP} + \\text{FP}}$\n",
    "    * $\\text{Recall} =\\frac{\\text{TP}}{\\text{TP} + \\text{FN}}$\n",
    "    * $\\text{F1-score} = 2 \\times \\frac{\\text{Precision} \\times \\text{Recall}}{\\text{Precision} + \\text{Recall}}$\n",
    "    * Input: function nhận 3 giá trị tp, fp, fn\n",
    "    * Output: print ra kết quả của Precision, Recall, và F1-score\n",
    "\n",
    "NOTE: Đề bài yêu cầu các điều kiện sau\n",
    "* Phải kiểm tra giá trị nhận vào tp, fp, fn là type int, nếu là type khác thì print ví dụ check fn là float, print `fn must be int!` và thoát hàm hoặc dừng chương trình.\n",
    "* Yêu cầu tp, fp, fn phải đều lớn hơn 0, nếu không thì print `tp and fp and fn must be greater than zero!` và thoát hàm hoặc dừng chương trình"
   ]
  },
  {
   "cell_type": "code",
   "execution_count": 4,
   "id": "928339c8-9436-4012-8843-e0bc8fc53cf3",
   "metadata": {},
   "outputs": [],
   "source": [
    "##\n",
    "# EXERCISE 2 (using 'assert' instead of 'if'):\n",
    "#\n",
    "def calculate_f1_score(tp, fp, fn):\n",
    "    assert type(tp) == int, 'tp must be int!'\n",
    "    assert type(fp) == int, 'fp must be int!'\n",
    "    assert type(fn) == int, 'fn must be int!'\n",
    "    assert (tp > 0 ) and (fp > 0) and (fn > 0), 'tp and fp and fn must be greater than zero!'\n",
    "    \n",
    "    precision = tp / (tp + fp)\n",
    "    print(f'precision is {precision}.')\n",
    "    \n",
    "    recall = tp / (tp + fn)\n",
    "    print(f'recall is {recall}.')\n",
    "    \n",
    "    f1_score = 2 * (precision * recall) / (precision * recall)\n",
    "    print(f'F1 score is {f1_score}.\\n')\n",
    "    \n",
    "    return None\n"
   ]
  },
  {
   "cell_type": "code",
   "execution_count": 5,
   "id": "0282dcd5-8177-4016-bb24-b77a57dabd16",
   "metadata": {},
   "outputs": [
    {
     "name": "stdout",
     "output_type": "stream",
     "text": [
      "precision is 0.4.\n",
      "recall is 0.3333333333333333.\n",
      "F1 score is 2.0.\n",
      "\n"
     ]
    }
   ],
   "source": [
    "##\n",
    "# TEST:\n",
    "#\n",
    "calculate_f1_score(2, 3, 4)\n",
    "# calculate_f1_score(0, 3, 4)\n",
    "# calculate_f1_score(2, '3', 4)"
   ]
  },
  {
   "cell_type": "code",
   "execution_count": 6,
   "id": "0c03e338-f837-44fa-a838-3b4e33750aad",
   "metadata": {},
   "outputs": [],
   "source": [
    "##\n",
    "# EXERCISE 2 (using only 'if')\n",
    "#\n",
    "def calculate_f1_score(tp, fp, fn):\n",
    "    if (type(tp) != int):\n",
    "        print('tp must be int!\\n')\n",
    "        return None\n",
    "        \n",
    "    if (type(fp) != int):\n",
    "        print('fp must be int!\\n')\n",
    "        return None\n",
    "        \n",
    "    if (type(fn) != int):\n",
    "        print('fn must be int!\\n')\n",
    "        return\n",
    "        \n",
    "    if (tp <= 0 ) or (fp <= 0) or (fn <= 0):\n",
    "        print('tp and fp and fn must be greater than zero!\\n')\n",
    "        return None\n",
    "    \n",
    "    precision = tp / (tp + fp)\n",
    "    print(f'precision is {precision}.')\n",
    "    \n",
    "    recall = tp / (tp + fn)\n",
    "    print(f'recall is {recall}.')\n",
    "    \n",
    "    f1_score = 2 * (precision * recall) / (precision * recall)\n",
    "    print(f'F1 score is {f1_score}.\\n')\n",
    "    \n",
    "    return None"
   ]
  },
  {
   "cell_type": "code",
   "execution_count": 7,
   "id": "9c5621a4-518f-4606-aa64-a659bb7d47ff",
   "metadata": {},
   "outputs": [
    {
     "name": "stdout",
     "output_type": "stream",
     "text": [
      "precision is 0.4.\n",
      "recall is 0.3333333333333333.\n",
      "F1 score is 2.0.\n",
      "\n",
      "tp and fp and fn must be greater than zero!\n",
      "\n",
      "fp must be int!\n",
      "\n"
     ]
    }
   ],
   "source": [
    "##\n",
    "# TEST:\n",
    "#\n",
    "calculate_f1_score(2, 3, 4)\n",
    "calculate_f1_score(0, 3, 4)\n",
    "calculate_f1_score(2, '3', 4)"
   ]
  },
  {
   "cell_type": "markdown",
   "id": "fd404dd8-dc09-4866-8ca4-c8dee8f94e04",
   "metadata": {},
   "source": [
    "3. Viết function mô phỏng theo 3 activation functions sau:\n",
    "    * Binary step function \n",
    "    \\begin{equation*}\n",
    "    f(x) = \\begin{cases}\n",
    "    0 \\quad &\\text{if} \\, x < 0 \\\\\n",
    "    1 \\quad &\\text{if} \\, x \\geq 0\\\\\n",
    "    \\end{cases}\n",
    "    \\end{equation*}\n",
    "\n",
    "    * Sigmoid function\n",
    "    \\begin{equation*}\n",
    "    f(x) = \\frac{1}{1 + e^{-x}}\n",
    "    \\end{equation*}\n",
    "    \n",
    "    * Elu function\n",
    "    \\begin{equation*}\n",
    "    f(x) = \\begin{cases}\n",
    "    \\alpha(e^x - 1) \\quad &\\text{if} \\, x <0\\\\\n",
    "    x \\quad &\\text{if} \\, x \\geq 0\\\\\n",
    "    \\end{cases}\n",
    "    \\end{equation*}\n",
    "    \n",
    "    * Input\n",
    "        * Người dùng nhập giá trị $x$\n",
    "        * Người dùng nhập tên activation function chỉ có 3 loại (binary, sigmoid, elu)\n",
    "    * Output: Kết quả f(x) (x khi đi qua actiavtion fucntion tương ứng theo activation function name). Ví dụ nhập `x = 3`, `activation_function = 'binary'`. `Output: print 'binary: f(3) = 1'`\n",
    "   \n",
    "NOTE: Lưu ý các điều kiện sau:\n",
    "* Dùng function is_number được cung cấp sẵn để kiểm tra x có hợp lệ hay không (vd: `x = 10, is_number(x)` sẽ trả về True ngược lại là False). Nếu không hợp lệ print `x must\n",
    "be a number` và dừng chương trình.\n",
    "* Kiểm tra activation function name có hợp lệ hay không nằm trong 3 tên (binary, sigmoid, elu). Nếu không print 'ten_function_user is not supported' (vd người dùng nhập `relu` thì print `relu is not supported`)\n",
    "* Convert x sang float type\n",
    "* Thực hiện theo công thức với activation name tương ứng. Print ra kết quả\n",
    "* Dùng `math.e` để lấy số e\n",
    "* $\\alpha = 0.01$"
   ]
  },
  {
   "cell_type": "code",
   "execution_count": 22,
   "id": "14a7146e-20d5-4f4e-b902-a2fda1c7a8c9",
   "metadata": {},
   "outputs": [],
   "source": [
    "##\n",
    "# EXERCISE 2 (using 'assert' instead of 'if'):\n",
    "#\n",
    "def is_number(n):\n",
    "    try:\n",
    "        float(n)\n",
    "    except ValueError:\n",
    "        return False\n",
    "    return True\n",
    "\n",
    "def map_activation_function(x, function_name):    \n",
    "    assert is_number(x) == True, 'x must be a number!'\n",
    "    assert ((function_name == 'binary') or (function_name == 'sigmoid') or (function_name == 'elu')), \\\n",
    "    f'{function_name} is not supported!'\n",
    "    exp = math.e\n",
    "    alpha = 0.01\n",
    "    x = float(x)\n",
    "    \n",
    "    ##\n",
    "    # Binary :\n",
    "    #\n",
    "    if (function_name == 'binary'):\n",
    "        if (x >= 0):\n",
    "            y = 1\n",
    "        else:\n",
    "            y = 0\n",
    "        \n",
    "    ##\n",
    "    # Sigmoid:\n",
    "    #\n",
    "    elif (function_name == 'sigmoid'):\n",
    "        y = 1 / (1 + exp ** x)\n",
    "    \n",
    "    ##\n",
    "    # Elu:\n",
    "    #\n",
    "    elif (function_name == 'elu'):\n",
    "        if (x >= 0):\n",
    "            y = x\n",
    "        else:\n",
    "            y = alpha * (exp**(x) - 1)\n",
    "            \n",
    "    print(f'{function_name}: f({x}) = {y}')"
   ]
  },
  {
   "cell_type": "code",
   "execution_count": 25,
   "id": "3d7cfbb4-cddc-474c-b052-4a12d99ef4ac",
   "metadata": {},
   "outputs": [
    {
     "name": "stdin",
     "output_type": "stream",
     "text": [
      "Input x =  1.5\n",
      "Input activation function (binary|sigmoid|elu):  elu\n"
     ]
    },
    {
     "name": "stdout",
     "output_type": "stream",
     "text": [
      "elu: f(1.5) = 1.5\n"
     ]
    }
   ],
   "source": [
    "##\n",
    "# TEST:\n",
    "#\n",
    "x = input('Input x = ')\n",
    "function_name = input('Input activation function (binary|sigmoid|elu): ')\n",
    "map_activation_function(x, function_name)"
   ]
  },
  {
   "cell_type": "code",
   "execution_count": 27,
   "id": "0b4e4d2d-9750-485f-aeca-091aca46cd0c",
   "metadata": {},
   "outputs": [],
   "source": [
    "##\n",
    "# EXERCISE 2 (using only 'if'):\n",
    "#\n",
    "def is_number(n):\n",
    "    try:\n",
    "        float(n)\n",
    "    except ValueError:\n",
    "        return False\n",
    "    return True\n",
    "\n",
    "def map_activation_function(x, function_name):    \n",
    "    if (is_number(x) != True):\n",
    "        print('x must be a number!')\n",
    "        return None\n",
    "    \n",
    "    if ((function_name != 'binary') and (function_name != 'sigmoid') and (function_name != 'elu')):\n",
    "        print(f'{function_name} is not supported!')\n",
    "        return None\n",
    "    \n",
    "    while(is_number(x) == True):\n",
    "        exp = math.e\n",
    "        alpha = 0.01\n",
    "        x = float(x)\n",
    "\n",
    "        ##\n",
    "        # Binary :\n",
    "        #\n",
    "        if (function_name == 'binary'):\n",
    "            if (x >= 0):\n",
    "                y = 1\n",
    "            else:\n",
    "                y = 0\n",
    "\n",
    "        ##\n",
    "        # Sigmoid:\n",
    "        #\n",
    "        elif (function_name == 'sigmoid'):\n",
    "            y = 1 / (1 + exp ** x)\n",
    "\n",
    "        ##\n",
    "        # Elu:\n",
    "        #\n",
    "        elif (function_name == 'elu'):\n",
    "            if (x >= 0):\n",
    "                y = x\n",
    "            else:\n",
    "                y = alpha * (exp**(x) - 1)\n",
    "\n",
    "        print(f'{function_name}: f({x}) = {y}')\n",
    "        break"
   ]
  },
  {
   "cell_type": "code",
   "execution_count": 30,
   "id": "51d604b9-fd77-44a2-bb37-5e92a6164d21",
   "metadata": {},
   "outputs": [
    {
     "name": "stdin",
     "output_type": "stream",
     "text": [
      "Input x =  1.5\n",
      "Input activation function (binary|sigmoid|elu):  elu\n"
     ]
    },
    {
     "name": "stdout",
     "output_type": "stream",
     "text": [
      "elu: f(1.5) = 1.5\n"
     ]
    }
   ],
   "source": [
    "##\n",
    "# TEST:\n",
    "#\n",
    "x = input('Input x = ')\n",
    "function_name = input('Input activation function (binary|sigmoid|elu): ')\n",
    "map_activation_function(x, function_name)"
   ]
  },
  {
   "cell_type": "markdown",
   "id": "692fa284-600f-47bc-953a-deb92ddcdb83",
   "metadata": {},
   "source": [
    "4. Viết function lựa chọn regression loss function để tính loss:\n",
    "    * $\\text{MAE} = \\frac{1}{n}\\sum^n_{i = 1}|y_i − \\hat{y}_i|$\n",
    "    * $\\text{MSE} = \\frac{1}{n}\\sum^n_{i = 1}(y_i − \\hat{y}_i)^2$\n",
    "    * $\\text{RMSE} = \\sqrt{\\text{MSE}}\n",
    "    * $n$ chính là số lượng samples (`num_samples`), với $i$ là mỗi sample cụ thể. Ở đây các bạn có thể hiểu là cứ mỗi $i$ thì sẽ có 1 cặp $y_i$ là target và $\\hat{y}$ là predict.\n",
    "    * Input:\n",
    "        * Người dùng nhập số lượng sample (`num_samples`) được tạo ra (chỉ nhận integer numbers)\n",
    "        * Người dùng nhập loss name (`MAE, MSE, RMSE`). Chỉ cần MAE và MSE, bạn nào muốn làm thêm RMSE đều được.\n",
    "        * Output: Print ra `loss name`, `sample`, `predict`, `target`, `loss`\n",
    "            * loss name: là loss mà người dùng chọn\n",
    "            * sample: là thứ tự sample được tạo ra (ví dụ `num_samples = 5`, thì sẽ có 5 samples và mỗi sample là `sample = 0`, `sample = 1`, `sample = 2`, `sample = 3`, `sample = 4`)\n",
    "            * predict: là số mà model dự đoán (chỉ cần dùng random tạo random một số trong range [0,10])\n",
    "            * target: là số target mà momg muốn mode dự đoán đúng (chỉ cần dùng random tạo random một số trong range [0,10])\n",
    "            * loss: là kết quả khi đưa predict và target vào hàm loss\n",
    "            * note: ví dụ num_sample=5 thì sẽ có 5 cặp predict và target.\n",
    "            \n",
    "Note: Các bạn lưu ý\n",
    "* Dùng `.isnumeric()` method để kiểm tra num_samples có hợp lệ hay không (vd: `x = 10`, `num_samples.isnumeric()` sẽ trả về True ngược lại là False). Nếu không hợp lệ `print\n",
    "'number of samples must be an integer number'` và dừng chương trình.\n",
    "* Dùng vòng lặp for, lặp lại `num_samples` lần. Mỗi lần dùng random modules tạo một con số ngẫu nhiên trong range [0.0, 10.0] cho predict và target. Sau đó đưa predict và target vào loss function và print ra kết quả mỗi lần lặp.\n",
    "* Dùng random.uniform(0,10) để tạo ra một số ngẫu nhiên trong range [0,10].\n",
    "* Giả xử người dùng luôn nhập đúng loss name MSE, MAE, và RMSE (đơn giản bước này để các bạn không cần check tên hợp lệ).\n",
    "* Dùng `abs()` để tính trị tuyệt đối ví dụ `abs(-3)` sẽ trả về 3.\n",
    "* Dùng `math.sqrt()` để tính căn bậc 2.\n"
   ]
  },
  {
   "cell_type": "code",
   "execution_count": 46,
   "id": "29118524-9782-4ab1-93d1-ed59188b6421",
   "metadata": {},
   "outputs": [],
   "source": [
    "##\n",
    "# EXERCISE 4:\n",
    "#\n",
    "def compute_loss(num_samples, loss_name):\n",
    "    assert (num_samples.isnumeric() == True), 'Number of samples must be an integer number!'\n",
    "    num_samples = int(num_samples)\n",
    "    Y_pred = []\n",
    "    Y_target = []\n",
    "    LOSS = []\n",
    "    \n",
    "    for i in range(num_samples):\n",
    "        y_pred = 10 * random.random()\n",
    "        Y_pred.append(y_pred)\n",
    "        \n",
    "        y_target = 10 * random.random()\n",
    "        Y_target.append(y_target)\n",
    "        \n",
    "        # MAE:\n",
    "        if (loss_name == 'MAE'):\n",
    "            loss = abs(y_target - y_pred)\n",
    "            LOSS.append(loss)    \n",
    "        \n",
    "        # MSE:\n",
    "        elif (loss_name == 'MSE'):\n",
    "            loss = (y_target - y_pred) ** 2\n",
    "            LOSS.append(loss)\n",
    "        \n",
    "        # RMSE:\n",
    "        elif (loss_name == 'RMSE'):\n",
    "            loss = (y_target - y_pred) ** 2\n",
    "            LOSS.append(loss)\n",
    "            \n",
    "        print(f'loss name: {loss_name}; sample: {i}; pred: {y_pred}; target: {y_target}; loss: {loss}')\n",
    "    \n",
    "    if (loss_name != 'RMSE'):\n",
    "        final = sum(LOSS) / len(LOSS)\n",
    "    else:\n",
    "        final = math.sqrt(sum(LOSS) / len(LOSS))\n",
    "    print(f'final {loss_name}: {final}')\n",
    "    \n",
    "    return None\n",
    "            "
   ]
  },
  {
   "cell_type": "code",
   "execution_count": 48,
   "id": "c43450b8-efdc-48ae-9572-ea19ab92ca66",
   "metadata": {},
   "outputs": [
    {
     "name": "stdin",
     "output_type": "stream",
     "text": [
      "Input number of samples (integer number) which are generated:  5\n",
      "Input loss name:  RMSE\n"
     ]
    },
    {
     "name": "stdout",
     "output_type": "stream",
     "text": [
      "loss name: RMSE; sample: 0; pred: 8.955035985426429; target: 2.434848145531997; loss: 42.51284946750722\n",
      "loss name: RMSE; sample: 1; pred: 3.815690240869918; target: 0.9369266608698867; loss: 8.287279749534596\n",
      "loss name: RMSE; sample: 2; pred: 8.238448592924229; target: 8.79970518060163; loss: 0.3150089572112813\n",
      "loss name: RMSE; sample: 3; pred: 0.02231977644645111; target: 0.42754325031908014; loss: 0.16420606377740127\n",
      "loss name: RMSE; sample: 4; pred: 2.0487941776503646; target: 0.5004527464479347; loss: 2.397361187577989\n",
      "final RMSE: 3.2764830359886954\n"
     ]
    }
   ],
   "source": [
    "num_samples = input('Input number of samples (integer number) which are generated: ')\n",
    "loss_name = input('Input loss name: ')\n",
    "compute_loss(num_samples, loss_name)"
   ]
  },
  {
   "cell_type": "code",
   "execution_count": null,
   "id": "3536c00b-89cf-435c-8c13-6b498b585dd0",
   "metadata": {},
   "outputs": [],
   "source": []
  }
 ],
 "metadata": {
  "kernelspec": {
   "display_name": "Python 3 (ipykernel)",
   "language": "python",
   "name": "python3"
  },
  "language_info": {
   "codemirror_mode": {
    "name": "ipython",
    "version": 3
   },
   "file_extension": ".py",
   "mimetype": "text/x-python",
   "name": "python",
   "nbconvert_exporter": "python",
   "pygments_lexer": "ipython3",
   "version": "3.9.12"
  }
 },
 "nbformat": 4,
 "nbformat_minor": 5
}
