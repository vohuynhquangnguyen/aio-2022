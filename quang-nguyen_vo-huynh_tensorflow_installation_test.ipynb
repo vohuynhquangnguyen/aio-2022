{
 "cells": [
  {
   "cell_type": "code",
   "execution_count": 9,
   "id": "0bf398a8",
   "metadata": {},
   "outputs": [],
   "source": [
    "import os\n",
    "import tensorflow as tf\n",
    "from tensorflow import keras\n",
    "from tensorflow.keras import Input, Model, layers, optimizers, datasets\n",
    "from tensorflow.python.ops.numpy_ops import np_config"
   ]
  },
  {
   "cell_type": "code",
   "execution_count": 10,
   "id": "69e7f1b1-e1d0-4273-9e26-de6bebc8d20d",
   "metadata": {},
   "outputs": [],
   "source": [
    "np_config.enable_numpy_behavior()"
   ]
  },
  {
   "cell_type": "code",
   "execution_count": 11,
   "id": "c6db4f3a-0696-4ba6-a3a3-f7b6cbcceaf4",
   "metadata": {},
   "outputs": [
    {
     "name": "stdout",
     "output_type": "stream",
     "text": [
      "(60000, 784)\n",
      "(60000, 10)\n"
     ]
    }
   ],
   "source": [
    "(x, y), (x_val, y_val) = datasets.mnist.load_data()\n",
    "x = tf.convert_to_tensor(x, dtype = tf.float32) / 255.0\n",
    "x = x.reshape(x.shape[0], -1)\n",
    "print(x.shape)\n",
    "\n",
    "y = tf.convert_to_tensor(y, dtype = tf.int32)\n",
    "y = tf.one_hot(y, depth = 10)\n",
    "print(y.shape)"
   ]
  },
  {
   "cell_type": "code",
   "execution_count": 13,
   "id": "98778ef2-a450-4be7-8c44-4651f043087c",
   "metadata": {},
   "outputs": [
    {
     "name": "stdout",
     "output_type": "stream",
     "text": [
      "Model: \"model\"\n",
      "_________________________________________________________________\n",
      " Layer (type)                Output Shape              Param #   \n",
      "=================================================================\n",
      " input_2 (InputLayer)        [(None, 784)]             0         \n",
      "                                                                 \n",
      " dense_3 (Dense)             (None, 256)               200960    \n",
      "                                                                 \n",
      " dense_4 (Dense)             (None, 128)               32896     \n",
      "                                                                 \n",
      " dense_5 (Dense)             (None, 10)                1290      \n",
      "                                                                 \n",
      "=================================================================\n",
      "Total params: 235,146\n",
      "Trainable params: 235,146\n",
      "Non-trainable params: 0\n",
      "_________________________________________________________________\n"
     ]
    }
   ],
   "source": [
    "inputs = Input(shape = (784,))\n",
    "x = layers.Dense(256, activation = 'relu')(inputs)\n",
    "x = layers.Dense(128, activation = 'relu')(x)\n",
    "outputs = layers.Dense(10)(x)\n",
    "model = Model(inputs = inputs, outputs = outputs)\n",
    "model.summary()\n"
   ]
  },
  {
   "cell_type": "code",
   "execution_count": null,
   "id": "8024fcbc-8d86-4422-aa8f-5239f240bce7",
   "metadata": {},
   "outputs": [],
   "source": []
  }
 ],
 "metadata": {
  "kernelspec": {
   "display_name": "Python 3.9 (tensorflow_latest)",
   "language": "python",
   "name": "tensorflow_latest"
  },
  "language_info": {
   "codemirror_mode": {
    "name": "ipython",
    "version": 3
   },
   "file_extension": ".py",
   "mimetype": "text/x-python",
   "name": "python",
   "nbconvert_exporter": "python",
   "pygments_lexer": "ipython3",
   "version": "3.9.12"
  }
 },
 "nbformat": 4,
 "nbformat_minor": 5
}
